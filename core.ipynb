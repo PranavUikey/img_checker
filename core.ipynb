{
 "cells": [
  {
   "cell_type": "code",
   "execution_count": null,
   "metadata": {},
   "outputs": [],
   "source": [
    "# default_exp core"
   ]
  },
  {
   "cell_type": "markdown",
   "metadata": {},
   "source": [
    "# find_images\n",
    "\n",
    "> This module read notebook in json format and find all the **![]** tags and check if creates a list of images used in that notebook and prints all the images which are not used in any of the notebooks. "
   ]
  },
  {
   "cell_type": "code",
   "execution_count": null,
   "metadata": {},
   "outputs": [],
   "source": [
    "#hide\n",
    "from nbdev.showdoc import *"
   ]
  },
  {
   "cell_type": "code",
   "execution_count": null,
   "metadata": {},
   "outputs": [],
   "source": [
    "import json, re, os\n",
    "from  pathlib import Path"
   ]
  },
  {
   "cell_type": "code",
   "execution_count": null,
   "metadata": {},
   "outputs": [],
   "source": [
    "%load_ext autoreload\n",
    "%autoreload 2"
   ]
  },
  {
   "cell_type": "code",
   "execution_count": null,
   "metadata": {},
   "outputs": [],
   "source": [
    "#export\n",
    "def _get_files(p, fs, extensions=None):\n",
    "    p = Path(p)\n",
    "    res = [p/f for f in fs if not f.startswith('.')\n",
    "           and ((not extensions) or f'.{f.split(\".\")[-1].lower()}' in extensions)]\n",
    "    return res"
   ]
  },
  {
   "cell_type": "code",
   "execution_count": null,
   "metadata": {},
   "outputs": [],
   "source": [
    "#export\n",
    "def get_files(path, extensions=None, recurse=True, folders=None, followlinks=True):\n",
    "    \"Get all the files in `path` with optional `extensions`, optionally with `recurse`, only in `folders`, if specified.\"\n",
    "    path = Path(path)\n",
    "    extensions = set(extensions)\n",
    "    extensions = {e.lower() for e in extensions}\n",
    "    if recurse:\n",
    "        res = []\n",
    "        for i,(p,d,f) in enumerate(os.walk(path, followlinks=followlinks)): \n",
    "            if folders is not None and i==0: d[:] = [o for o in d if o in folders]\n",
    "            else:                         d[:] = [o for o in d if not o.startswith('.')]\n",
    "            if folders is not None and i==0 and '.' not in folders: continue\n",
    "            res += _get_files(p, f, extensions)\n",
    "    else:\n",
    "        f = [o.name for o in os.scandir(path) if o.is_file()]\n",
    "        res = _get_files(path, f, extensions)\n",
    "    return res"
   ]
  },
  {
   "cell_type": "code",
   "execution_count": null,
   "metadata": {},
   "outputs": [],
   "source": [
    "#export\n",
    "def get_images_path(dct):\n",
    "    \"\"\"Create a Function to match and return the pattern of image path\"\"\"\n",
    "    all_paths = []\n",
    "    for cell in dct['cells']:\n",
    "        if cell['cell_type'] != 'code': \n",
    "            src = cell['source']\n",
    "\n",
    "            ### find all images with extension as .jpg or .png . \n",
    "            all_matches = re.findall(r\"\\(.*jpg\\)|\\(.*png\\)\", src[0]) \n",
    "\n",
    "            ### Keep in mind that images and notebooks folder are on the same level of directory structure.\n",
    "            for match in all_matches:\n",
    "                all_paths.append(match.strip('(./))'))\n",
    "    return all_paths"
   ]
  },
  {
   "cell_type": "code",
   "execution_count": null,
   "metadata": {},
   "outputs": [],
   "source": [
    "#export\n",
    "def notebook_json(self):\n",
    "    \"\"\"Create a Function to read notebook as json and get the list of all the images used in the notebook\"\"\"\n",
    "    img_paths = []\n",
    "    fns = []\n",
    "    path = Path(self.path)\n",
    "\n",
    "    if path.is_file():    \n",
    "        fns.append(path)\n",
    "\n",
    "    else:\n",
    "        fns = get_files(path,extensions=['.ipynb'])\n",
    "\n",
    "    for fn in fns:\n",
    "        main_dic = json.load(open(fn,'r'))\n",
    "        img_paths+=get_images_path(main_dic)\n",
    "\n",
    "    print('Unnecessary Images in folder are as follows:-')\n",
    "    print()\n",
    "    for img_dir in Path('images').iterdir():\n",
    "        if str(img_dir) not in img_paths:\n",
    "            print(img_dir)"
   ]
  },
  {
   "cell_type": "code",
   "execution_count": null,
   "metadata": {},
   "outputs": [
    {
     "name": "stdout",
     "output_type": "stream",
     "text": [
      "Converted core.ipynb.\n",
      "Converted index.ipynb.\n"
     ]
    }
   ],
   "source": [
    "from nbdev.export import notebook2script; notebook2script()"
   ]
  },
  {
   "cell_type": "code",
   "execution_count": null,
   "metadata": {},
   "outputs": [],
   "source": [
    "que1 = (0,1,2,{'Name':'Suresh', 'Marks':[65,89,72,80,77]})\n",
    "que1 = list(que1)"
   ]
  },
  {
   "cell_type": "code",
   "execution_count": null,
   "metadata": {},
   "outputs": [],
   "source": [
    "que1[3]['Marks'][0] = 92"
   ]
  },
  {
   "cell_type": "code",
   "execution_count": null,
   "metadata": {},
   "outputs": [
    {
     "data": {
      "text/plain": [
       "[0, 1, 2, {'Name': 'Suresh', 'Marks': [92, 89, 72, 80, 77]}]"
      ]
     },
     "execution_count": null,
     "metadata": {},
     "output_type": "execute_result"
    }
   ],
   "source": [
    "que1"
   ]
  },
  {
   "cell_type": "code",
   "execution_count": null,
   "metadata": {},
   "outputs": [],
   "source": []
  }
 ],
 "metadata": {
  "kernelspec": {
   "display_name": "Python 3",
   "language": "python",
   "name": "python3"
  }
 },
 "nbformat": 4,
 "nbformat_minor": 2
}
